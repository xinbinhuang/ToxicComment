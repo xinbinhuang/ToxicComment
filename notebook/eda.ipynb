{
 "cells": [
  {
   "cell_type": "markdown",
   "metadata": {},
   "source": [
    "# EDA and baseline model\n",
    "\n",
    "## Data overview\n",
    "The dataset contains a large number of Wikipedia comments which have been labeled by human raters for toxic behavior. There are 6 categories:\n",
    "\n",
    "- toxic\n",
    "- severe_toxic\n",
    "- obscene\n",
    "- threat\n",
    "- insult\n",
    "- identity_hate\n",
    "\n",
    "## Goal\n",
    "Create a model to predict the probabilities of each type toxicity."
   ]
  },
  {
   "cell_type": "markdown",
   "metadata": {},
   "source": [
    "## 2. Data pre-processing\n",
    "### 2.1 Sample size"
   ]
  },
  {
   "cell_type": "code",
   "execution_count": 1,
   "metadata": {},
   "outputs": [],
   "source": [
    "# load libraries\n",
    "# basic\n",
    "import numpy as np\n",
    "import pandas as pd\n",
    "\n",
    "# misc\n",
    "import os\n",
    "import sys\n",
    "import gc\n",
    "import time\n",
    "import warnings\n",
    "\n",
    "# sklearn\n",
    "from sklearn.feature_extraction.text import CountVectorizer, TfidfVectorizer\n",
    "from sklearn.linear_model import LogisticRegression\n",
    "from sklearn.model_selection import cross_val_score\n",
    "from sklearn.pipeline import Pipeline\n",
    "\n",
    "# visualization\n",
    "import matplotlib.pyplot as plt\n",
    "import seaborn as sns\n",
    "\n",
    "sns.set_style(\"darkgrid\")\n",
    "warnings.filterwarnings(\"ignore\")\n",
    "\n",
    "%matplotlib inline"
   ]
  },
  {
   "cell_type": "code",
   "execution_count": 2,
   "metadata": {},
   "outputs": [
    {
     "data": {
      "text/plain": [
       "['test.csv', 'test_labels.csv', 'train.csv', 'sample_submission.csv']"
      ]
     },
     "execution_count": 2,
     "metadata": {},
     "output_type": "execute_result"
    }
   ],
   "source": [
    "data_path='../data'\n",
    "\n",
    "# check the files\n",
    "os.listdir(data_path)"
   ]
  },
  {
   "cell_type": "code",
   "execution_count": 3,
   "metadata": {},
   "outputs": [],
   "source": [
    "# load the data\n",
    "train_path = os.path.join(data_path, 'train.csv')\n",
    "test_path = os.path.join(data_path, 'test.csv')\n",
    "\n",
    "train_df = pd.read_csv(train_path)\n",
    "test_df = pd.read_csv(test_path)"
   ]
  },
  {
   "cell_type": "code",
   "execution_count": 4,
   "metadata": {},
   "outputs": [
    {
     "name": "stdout",
     "output_type": "stream",
     "text": [
      "Number of rows in train set : 159571\n",
      "Number of rows in test set : 153164\n"
     ]
    }
   ],
   "source": [
    "train_row = train_df.shape[0]\n",
    "test_row = test_df.shape[0]\n",
    "\n",
    "print(\"Number of rows in train set : {}\".format(train_row))\n",
    "print(\"Number of rows in test set : {}\".format(test_row))"
   ]
  },
  {
   "cell_type": "markdown",
   "metadata": {},
   "source": [
    "### 2.2 Data analysis"
   ]
  },
  {
   "cell_type": "markdown",
   "metadata": {},
   "source": [
    "#### 2.2.1 Glimpse\n",
    "Each class are individually rated."
   ]
  },
  {
   "cell_type": "code",
   "execution_count": 18,
   "metadata": {},
   "outputs": [
    {
     "data": {
      "text/html": [
       "<div>\n",
       "<style scoped>\n",
       "    .dataframe tbody tr th:only-of-type {\n",
       "        vertical-align: middle;\n",
       "    }\n",
       "\n",
       "    .dataframe tbody tr th {\n",
       "        vertical-align: top;\n",
       "    }\n",
       "\n",
       "    .dataframe thead th {\n",
       "        text-align: right;\n",
       "    }\n",
       "</style>\n",
       "<table border=\"1\" class=\"dataframe\">\n",
       "  <thead>\n",
       "    <tr style=\"text-align: right;\">\n",
       "      <th></th>\n",
       "      <th>id</th>\n",
       "      <th>comment_text</th>\n",
       "      <th>toxic</th>\n",
       "      <th>severe_toxic</th>\n",
       "      <th>obscene</th>\n",
       "      <th>threat</th>\n",
       "      <th>insult</th>\n",
       "      <th>identity_hate</th>\n",
       "    </tr>\n",
       "  </thead>\n",
       "  <tbody>\n",
       "    <tr>\n",
       "      <th>119062</th>\n",
       "      <td>7c6dc99f84d60882</td>\n",
       "      <td>\"\\n\\n Your Edit to \"\"Talk:Cheyenne Frontier Da...</td>\n",
       "      <td>0</td>\n",
       "      <td>0</td>\n",
       "      <td>0</td>\n",
       "      <td>0</td>\n",
       "      <td>0</td>\n",
       "      <td>0</td>\n",
       "    </tr>\n",
       "    <tr>\n",
       "      <th>17663</th>\n",
       "      <td>2eae028e65f50c21</td>\n",
       "      <td>I have vandalized NOTHING \\n\\nWhat you have is...</td>\n",
       "      <td>0</td>\n",
       "      <td>0</td>\n",
       "      <td>0</td>\n",
       "      <td>0</td>\n",
       "      <td>0</td>\n",
       "      <td>0</td>\n",
       "    </tr>\n",
       "    <tr>\n",
       "      <th>32542</th>\n",
       "      <td>5694be507c9cedf2</td>\n",
       "      <td>2006 (UTC)\\n\\nI have moved two huge discussion...</td>\n",
       "      <td>0</td>\n",
       "      <td>0</td>\n",
       "      <td>0</td>\n",
       "      <td>0</td>\n",
       "      <td>0</td>\n",
       "      <td>0</td>\n",
       "    </tr>\n",
       "    <tr>\n",
       "      <th>149192</th>\n",
       "      <td>58b4abdb81556ea5</td>\n",
       "      <td>TG US S5 v S4 \\n\\nStop changing the season 4 e...</td>\n",
       "      <td>0</td>\n",
       "      <td>0</td>\n",
       "      <td>0</td>\n",
       "      <td>0</td>\n",
       "      <td>0</td>\n",
       "      <td>0</td>\n",
       "    </tr>\n",
       "    <tr>\n",
       "      <th>137465</th>\n",
       "      <td>df97c532f1627c2c</td>\n",
       "      <td>\"{| style=\"\"background-color:#F5FFFA; padding:...</td>\n",
       "      <td>0</td>\n",
       "      <td>0</td>\n",
       "      <td>0</td>\n",
       "      <td>0</td>\n",
       "      <td>0</td>\n",
       "      <td>0</td>\n",
       "    </tr>\n",
       "  </tbody>\n",
       "</table>\n",
       "</div>"
      ],
      "text/plain": [
       "                      id                                       comment_text  \\\n",
       "119062  7c6dc99f84d60882  \"\\n\\n Your Edit to \"\"Talk:Cheyenne Frontier Da...   \n",
       "17663   2eae028e65f50c21  I have vandalized NOTHING \\n\\nWhat you have is...   \n",
       "32542   5694be507c9cedf2  2006 (UTC)\\n\\nI have moved two huge discussion...   \n",
       "149192  58b4abdb81556ea5  TG US S5 v S4 \\n\\nStop changing the season 4 e...   \n",
       "137465  df97c532f1627c2c  \"{| style=\"\"background-color:#F5FFFA; padding:...   \n",
       "\n",
       "        toxic  severe_toxic  obscene  threat  insult  identity_hate  \n",
       "119062      0             0        0       0       0              0  \n",
       "17663       0             0        0       0       0              0  \n",
       "32542       0             0        0       0       0              0  \n",
       "149192      0             0        0       0       0              0  \n",
       "137465      0             0        0       0       0              0  "
      ]
     },
     "execution_count": 18,
     "metadata": {},
     "output_type": "execute_result"
    }
   ],
   "source": [
    "# take a look\n",
    "train_df.sample(5)"
   ]
  },
  {
   "cell_type": "markdown",
   "metadata": {},
   "source": [
    "**Example comments for each class**\n",
    "- Some comments just repeat the same phrase or sentence over and over again\n",
    "- There are some symbols (they don't make sense), url, IP address in the comment.\n",
    "- They are shouting (upper-case words/sentences)"
   ]
  },
  {
   "cell_type": "code",
   "execution_count": 5,
   "metadata": {},
   "outputs": [
    {
     "name": "stdout",
     "output_type": "stream",
     "text": [
      "Category : toxic\n",
      "0 : Are you ok idiots... DSS monarchistic?! And they are not conservative, but ultra - nationalist, they supported Karadzic and they were burning embassies all around the Belgrade.\n",
      "1 : Jehovah's Witnesses are a bunch of cultish FREAKS and they need to go ahead and drink the 'kool-aid' now and STOP KNOCKING ON MY FARKING DOOR and shove their hateful version of God up their arses!!!65.69.81.2\n",
      "----------------------------------------\n",
      "Category : severe_toxic\n",
      "0 : fuck cocksucker titty marijuana nigger whore\n",
      "1 : you suck dick and should be arrested and thrown in jail.  you also suck and should be blocked indefinitely. Just to let you guys know I am a sock puppet of The Cheapo. Take this into consideration and you will have yet anotehr account that is a sock puppet of the cheapo.\n",
      "----------------------------------------\n",
      "Category : obscene\n",
      "0 : —   | Talk  I, who am coming in from the wild, I, who happen to be Reform and think this Sanhedrin is, pardon my French, bullshit, shall be the third, as I believe that honorable editing is a Wikimitzvah.\n",
      "1 : uranus rules and u suck nomorewriting biatch i hate u go suck uranus and a dick\n",
      "----------------------------------------\n",
      "Category : threat\n",
      "0 : Go and hang yourself!\n",
      "1 : SuPeRTR0LL WiLL LiVe FoReVeR!\n",
      "iF You DoN'T ReSPeCT THe SuPeRTR0LL You WiLL Die You PaTHeTiC FooL!\n",
      "SuPeRTR0LL WiLL LiVe FoReVeR!\n",
      "iF You DoN'T ReSPeCT THe SuPeRTR0LL You WiLL Die You PaTHeTiC FooL!\n",
      "SuPeRTR0LL WiLL LiVe FoReVeR!\n",
      "iF You DoN'T ReSPeCT THe SuPeRTR0LL You WiLL Die You PaTHeTiC FooL!\n",
      "SuPeRTR0LL WiLL LiVe FoReVeR!\n",
      "iF You DoN'T ReSPeCT THe SuPeRTR0LL You WiLL Die You PaTHeTiC FooL!\n",
      "SuPeRTR0LL WiLL LiVe FoReVeR!\n",
      "iF You DoN'T ReSPeCT THe SuPeRTR0LL You WiLL Die You PaTHeTiC FooL!\n",
      "SuPeRTR0LL WiLL LiVe FoReVeR!\n",
      "iF You DoN'T ReSPeCT THe SuPeRTR0LL You WiLL Die You PaTHeTiC FooL!\n",
      "SuPeRTR0LL WiLL LiVe FoReVeR!\n",
      "iF You DoN'T ReSPeCT THe SuPeRTR0LL You WiLL Die You PaTHeTiC FooL!\n",
      "SuPeRTR0LL WiLL LiVe FoReVeR!\n",
      "iF You DoN'T ReSPeCT THe SuPeRTR0LL You WiLL Die You PaTHeTiC FooL!\n",
      "SuPeRTR0LL WiLL LiVe FoReVeR!\n",
      "iF You DoN'T ReSPeCT THe SuPeRTR0LL You WiLL Die You PaTHeTiC FooL!\n",
      "SuPeRTR0LL WiLL LiVe FoReVeR!\n",
      "iF You DoN'T ReSPeCT THe SuPeRTR0LL You WiLL Die You PaTHeTiC FooL!\n",
      "SuPeRTR0LL WiLL LiVe FoReVeR!\n",
      "iF You DoN'T ReSPeCT THe SuPeRTR0LL You WiLL Die You PaTHeTiC FooL!\n",
      "SuPeRTR0LL WiLL LiVe FoReVeR!\n",
      "iF You DoN'T ReSPeCT THe SuPeRTR0LL You WiLL Die You PaTHeTiC FooL!\n",
      "SuPeRTR0LL WiLL LiVe FoReVeR!\n",
      "iF You DoN'T ReSPeCT THe SuPeRTR0LL You WiLL Die You PaTHeTiC FooL!\n",
      "SuPeRTR0LL WiLL LiVe FoReVeR!\n",
      "iF You DoN'T ReSPeCT THe SuPeRTR0LL You WiLL Die You PaTHeTiC FooL!\n",
      "SuPeRTR0LL WiLL LiVe FoReVeR!\n",
      "iF You DoN'T ReSPeCT THe SuPeRTR0LL You WiLL Die You PaTHeTiC FooL!\n",
      "SuPeRTR0LL WiLL LiVe FoReVeR!\n",
      "iF You DoN'T ReSPeCT THe SuPeRTR0LL You WiLL Die You PaTHeTiC FooL!\n",
      "SuPeRTR0LL WiLL LiVe FoReVeR!\n",
      "iF You DoN'T ReSPeCT THe SuPeRTR0LL You WiLL Die You PaTHeTiC FooL!\n",
      "SuPeRTR0LL WiLL LiVe FoReVeR!\n",
      "iF You DoN'T ReSPeCT THe SuPeRTR0LL You WiLL Die You PaTHeTiC FooL!\n",
      "SuPeRTR0LL WiLL LiVe FoReVeR!\n",
      "iF You DoN'T ReSPeCT THe SuPeRTR0LL You WiLL Die You PaTHeTiC FooL!\n",
      "SuPeRTR0LL WiLL LiVe FoReVeR!\n",
      "iF You DoN'T ReSPeCT THe SuPeRTR0LL You WiLL Die You PaTHeTiC FooL!\n",
      "SuPeRTR0LL WiLL LiVe FoReVeR!\n",
      "iF You DoN'T ReSPeCT THe SuPeRTR0LL You WiLL Die You PaTHeTiC FooL!\n",
      "SuPeRTR0LL WiLL LiVe FoReVeR!\n",
      "iF You DoN'T ReSPeCT THe SuPeRTR0LL You WiLL Die You PaTHeTiC FooL!\n",
      "SuPeRTR0LL WiLL LiVe FoReVeR!\n",
      "iF You DoN'T ReSPeCT THe SuPeRTR0LL You WiLL Die You PaTHeTiC FooL!\n",
      "----------------------------------------\n",
      "Category : insult\n",
      "0 : Don't worry about this TheJPS broad... she is a total numbskull. TheJPS is an extreme left wing editor that uses Wikipedia to bully people with different political beliefs than her own. Also, TheJPS has a small group of left-wing extremist administrators that have all NOMINATED each other and just go around locking pages, deleting articles written by people that have gotten the better of them and an all around rampage of feminine rage! It's good that The JPS has found a place where she can vent, but it's a shame that she loses control. If you see the ' 3RR PROBLEM' section on this page you can see THE JPS having the stuffing beat out of her in a sensible debate... what did THE JPS do? she chased down articles I had ammended, created and edited and deleted them and whatever else she could think of. Not a very nice person. Certainly not very bright. Probably educated in Scotland or Ghana. Oh well. My guess is that she will get hers. Och thy incest lassie!\n",
      "\n",
      "REPMART\n",
      "1 : For fuck's sake just fucking stop you spastic! As any fucking moron could tell, the page in question refers to who the players were playing for AS OF THE 2010 WORLD CUP!\n",
      "----------------------------------------\n",
      "Category : identity_hate\n",
      "0 : star wars sucks \n",
      "\n",
      "peoplw with no lives like that gay stuff\n",
      "1 : The Israelis are committing massacres in Gaza, but nobody listens. There is even no photos which exposes those who permitted these massacres.\n",
      "----------------------------------------\n"
     ]
    }
   ],
   "source": [
    "def show_comment(toxic_class, n):\n",
    "    \"\"\"\n",
    "    Print out 'n' sample comments for a toxic class\n",
    "    \"\"\"\n",
    "    ind=(train_df[toxic_class]==1)\n",
    "    comment_class=train_df.loc[ind, \"comment_text\"]\n",
    "    comments=comment_class.sample(n).values\n",
    "    for i, comment in enumerate(comments):\n",
    "        print(\"{} : {}\".format(i, comment), \n",
    "              end=\"\\n\")\n",
    "    return None\n",
    "\n",
    "class_names = ['toxic', 'severe_toxic', 'obscene', 'threat', 'insult', 'identity_hate']\n",
    "\n",
    "for cls in class_names:\n",
    "    print(\"Category : {}\".format(cls))\n",
    "    show_comment(cls, 2)\n",
    "    print(\"-\"*40)"
   ]
  },
  {
   "cell_type": "markdown",
   "metadata": {},
   "source": [
    "#### 2.2.2 Missing values\n",
    "\n",
    "There is no missing values in the file. That is great."
   ]
  },
  {
   "cell_type": "code",
   "execution_count": 6,
   "metadata": {},
   "outputs": [
    {
     "name": "stdout",
     "output_type": "stream",
     "text": [
      "Check for missing values in Train set\n",
      "id               0\n",
      "comment_text     0\n",
      "toxic            0\n",
      "severe_toxic     0\n",
      "obscene          0\n",
      "threat           0\n",
      "insult           0\n",
      "identity_hate    0\n",
      "dtype: int64\n",
      "Check for missing values in Test set\n",
      "id              0\n",
      "comment_text    0\n",
      "dtype: int64\n"
     ]
    }
   ],
   "source": [
    "print(\"Check for missing values in Train set\")\n",
    "print(train_df.isnull().sum())\n",
    "\n",
    "print(\"Check for missing values in Test set\")\n",
    "print(test_df.isnull().sum())"
   ]
  },
  {
   "cell_type": "markdown",
   "metadata": {},
   "source": [
    "#### 2.2.3 Imbalance classes"
   ]
  },
  {
   "cell_type": "markdown",
   "metadata": {},
   "source": [
    "- Most comments are non-toxic (imbalance)\n",
    "- Among those comments that are tagged, *toxic*, *obscene*, and *insult* are most frequent.\n",
    "- The distribution across different cateogories are not important here because each cateogry was evaluated individually."
   ]
  },
  {
   "cell_type": "code",
   "execution_count": 7,
   "metadata": {},
   "outputs": [
    {
     "name": "stdout",
     "output_type": "stream",
     "text": [
      "Number of total comments : 159571\n",
      "Number of non_toxic coments : 143346\n"
     ]
    }
   ],
   "source": [
    "# number of toxic counts for each comment\n",
    "toxic_counts = train_df.iloc[:, 2:].sum(axis=1)\n",
    "train_df[\"non_toxic\"] = (toxic_counts==0)\n",
    "\n",
    "print(\"Number of total comments : {}\".format(len(train_df)))\n",
    "print(\"Number of non_toxic coments : {}\".format(train_df[\"non_toxic\"].sum()))"
   ]
  },
  {
   "cell_type": "code",
   "execution_count": 8,
   "metadata": {},
   "outputs": [
    {
     "data": {
      "text/plain": [
       "[]"
      ]
     },
     "execution_count": 8,
     "metadata": {},
     "output_type": "execute_result"
    },
    {
     "data": {
      "image/png": "[encoded data removed]",
      "text/plain": [
       "<Figure size 576x288 with 1 Axes>"
      ]
     },
     "metadata": {},
     "output_type": "display_data"
    }
   ],
   "source": [
    "label_counts = train_df.iloc[:, 2:].sum().sort_values(ascending=False)\n",
    "\n",
    "plt.figure(figsize=[8,4])\n",
    "sns.barplot(label_counts.index, label_counts.values)\n",
    "plt.title(\"Number of counts per class\")\n",
    "plt.xlabel(\"Class\")\n",
    "plt.ylabel(\"Number of occurences\")\n",
    "plt.semilogy()"
   ]
  },
  {
   "cell_type": "markdown",
   "metadata": {},
   "source": [
    "## Modelling - Baseline\n",
    "Simply extract word counts or tf-idf as features\n",
    "- word counts\n",
    "- tf-idf\n",
    "\n",
    "Train with only \n",
    "- logistic regression"
   ]
  },
  {
   "cell_type": "code",
   "execution_count": 9,
   "metadata": {},
   "outputs": [
    {
     "name": "stdout",
     "output_type": "stream",
     "text": [
      "['toxic', 'severe_toxic', 'obscene', 'threat', 'insult', 'identity_hate']\n"
     ]
    }
   ],
   "source": [
    "print(class_names)"
   ]
  },
  {
   "cell_type": "code",
   "execution_count": 10,
   "metadata": {},
   "outputs": [],
   "source": [
    "# combine text for preprocessing\n",
    "train_text = train_df[\"comment_text\"]\n",
    "test_text = test_df[\"comment_text\"]\n",
    "all_text = pd.concat([train_text, test_text])"
   ]
  },
  {
   "cell_type": "code",
   "execution_count": 11,
   "metadata": {},
   "outputs": [
    {
     "name": "stdout",
     "output_type": "stream",
     "text": [
      "\n",
      "\n",
      " Transformer : word_vect\n",
      "Average CV score for toxic : 0.7453902075124387\n",
      "Average CV score for severe_toxic : 0.7732593998762459\n",
      "Average CV score for obscene : 0.7523520478408922\n",
      "Average CV score for threat : 0.6883750612305519\n",
      "Average CV score for insult : 0.7326309101664625\n",
      "Average CV score for identity_hate : 0.7005355641680676\n",
      "Total average CV score for all classes : 0.7320905317991099\n",
      "\n",
      "\n",
      " Transformer : tfidf_vect\n",
      "Average CV score for toxic : 0.9671216100363963\n",
      "Average CV score for severe_toxic : 0.9850062011978881\n",
      "Average CV score for obscene : 0.9836135197776358\n",
      "Average CV score for threat : 0.9802786283887907\n",
      "Average CV score for insult : 0.9742030129734341\n",
      "Average CV score for identity_hate : 0.9724776879194135\n",
      "Total average CV score for all classes : 0.9771167767155932\n"
     ]
    }
   ],
   "source": [
    "# set up two transformers\n",
    "text_extraction = {\n",
    "    'word_vect': CountVectorizer(encoding=\"unicode\", \n",
    "                analyzer=\"word\",\n",
    "                token_pattern=\"\\w{1,}\",\n",
    "                stop_words=\"english\",\n",
    "                ngram_range=(1,1),\n",
    "                max_features=10000),\n",
    "    'tfidf_vect': TfidfVectorizer(encoding=\"unicode\", \n",
    "                analyzer=\"word\",\n",
    "                token_pattern=\"\\w{1,}\",\n",
    "                stop_words=\"english\",\n",
    "                ngram_range=(1,1),\n",
    "                max_features=10000)\n",
    "}\n",
    "\n",
    "\n",
    "for name, vectorizer in text_extraction.items():\n",
    "    # transform comments into text features\n",
    "    vectorizer.fit(all_text)\n",
    "    train_features = vectorizer.transform(train_text)\n",
    "    test_features = vectorizer.transform(test_text)\n",
    "\n",
    "    # train the model for each class\n",
    "    print('\\n\\n',\n",
    "          'Transformer : {}'.format(name))\n",
    "    scores=[]\n",
    "    y_pred_word=pd.DataFrame.from_dict({id: test_df[\"id\"]})\n",
    "    for class_name in class_names:\n",
    "        train_target = train_df[class_name]\n",
    "        classifier = LogisticRegression(solver=\"sag\")\n",
    "\n",
    "        cv_score = np.mean(cross_val_score(classifier, train_features, train_target, cv=3, scoring=\"roc_auc\"))\n",
    "        scores.append(cv_score)\n",
    "        print(\"Average CV score for {} : {}\".format(class_name, cv_score))\n",
    "\n",
    "        classifier.fit(train_features, train_target)\n",
    "        y_pred_word[class_name]=classifier.predict_proba(test_features)[:, 1]\n",
    "    print(\"Total average CV score for all classes : {}\".format(np.mean(scores)))"
   ]
  },
  {
   "cell_type": "markdown",
   "metadata": {},
   "source": [
    "- The results from `TfidfVectorizer` is much better."
   ]
  },
  {
   "cell_type": "markdown",
   "metadata": {},
   "source": [
    "## More things to do\n",
    "\n",
    "### More features\n",
    "- Character n-grams\n",
    "- Sentiment scores\n",
    "- Word embeddings\n",
    "\n",
    "Count features\n",
    "- Character counts\n",
    "- Word counts \n",
    "- Sentence counts\n",
    "- Uppper-case words counts\n",
    "\n",
    "### More model\n",
    "- NB-SVM\n",
    "- LSTM\n",
    "\n",
    "### Hyperparameter tunning"
   ]
  },
  {
   "cell_type": "markdown",
   "metadata": {},
   "source": [
    "**Calculate count features**"
   ]
  },
  {
   "cell_type": "code",
   "execution_count": 10,
   "metadata": {},
   "outputs": [],
   "source": [
    "comment_words=train_df[\"comment_text\"].str.split()"
   ]
  },
  {
   "cell_type": "code",
   "execution_count": 11,
   "metadata": {},
   "outputs": [],
   "source": [
    "# count of words\n",
    "train_df[\"n_words\"]=comment_words.apply(lambda x: len(x))\n",
    "# count of unique words\n",
    "train_df[\"n_unique_words\"]=comment_words.apply(lambda x: len(set(x)))\n",
    "# count of upper words\n",
    "train_df[\"n_upper_words\"]=comment_words.apply(lambda x: len([w for w in x if w.isupper()]))\n",
    "# count of letters\n",
    "train_df[\"n_letters\"]=train_df[\"comment_text\"].apply(lambda x: len(x))"
   ]
  }
 ],
 "metadata": {
  "kernelspec": {
   "display_name": "Python 3",
   "language": "python",
   "name": "python3"
  },
  "language_info": {
   "codemirror_mode": {
    "name": "ipython",
    "version": 3
   },
   "file_extension": ".py",
   "mimetype": "text/x-python",
   "name": "python",
   "nbconvert_exporter": "python",
   "pygments_lexer": "ipython3",
   "version": "3.6.6"
  }
 },
 "nbformat": 4,
 "nbformat_minor": 2
}
